{
  "nbformat": 4,
  "nbformat_minor": 0,
  "metadata": {
    "colab": {
      "name": "NMA2021_Project.ipynb",
      "provenance": [],
      "authorship_tag": "ABX9TyMpDZsuorwnYUAIzvSNzEKk",
      "include_colab_link": true
    },
    "kernelspec": {
      "name": "python3",
      "display_name": "Python 3"
    },
    "language_info": {
      "name": "python"
    }
  },
  "cells": [
    {
      "cell_type": "markdown",
      "metadata": {
        "id": "view-in-github",
        "colab_type": "text"
      },
      "source": [
        "<a href=\"https://colab.research.google.com/github/Bionerdess/NMA2021/blob/main/NMA2021_Project.ipynb\" target=\"_parent\"><img src=\"https://colab.research.google.com/assets/colab-badge.svg\" alt=\"Open In Colab\"/></a>"
      ]
    },
    {
      "cell_type": "markdown",
      "metadata": {
        "id": "OfxqQRaM1Gba"
      },
      "source": [
        "# Neuromatch Academy 2021\n",
        "### Collaborative Project analyzing data by Steinmetz et. al., 2019\n",
        "By Anna-Lena Schlenner, Shira Lupkin, Katrina Lee Bartas and Joaquin Herrero"
      ]
    },
    {
      "cell_type": "code",
      "metadata": {
        "id": "juRTK5oV2Ivl"
      },
      "source": [
        "#@title Necesssary imports\n",
        "from scipy import stats, io\n",
        "import numpy as np\n",
        "import os, requests\n",
        "import matplotlib.pyplot as plt\n",
        "import seaborn as sns\n",
        "sns.set()\n",
        "\n",
        "from matplotlib import rcParams \n",
        "import pandas as pd\n",
        "import pickle"
      ],
      "execution_count": 1,
      "outputs": []
    },
    {
      "cell_type": "code",
      "metadata": {
        "id": "8cLUCTx40ogK"
      },
      "source": [
        "#@title Data retrieval\n",
        "import os, requests\n",
        "\n",
        "fname = []\n",
        "for j in range(3):\n",
        "  fname.append('steinmetz_part%d.npz'%j)\n",
        "url = [\"https://osf.io/agvxh/download\"]\n",
        "url.append(\"https://osf.io/uv3mw/download\")\n",
        "url.append(\"https://osf.io/ehmw2/download\")\n",
        "\n",
        "for j in range(len(url)):\n",
        "  if not os.path.isfile(fname[j]):\n",
        "    try:\n",
        "      r = requests.get(url[j])\n",
        "    except requests.ConnectionError:\n",
        "      print(\"!!! Failed to download data !!!\")\n",
        "    else:\n",
        "      if r.status_code != requests.codes.ok:\n",
        "        print(\"!!! Failed to download data !!!\")\n",
        "      else:\n",
        "        with open(fname[j], \"wb\") as fid:\n",
        "          fid.write(r.content)"
      ],
      "execution_count": 2,
      "outputs": []
    },
    {
      "cell_type": "code",
      "metadata": {
        "id": "Al82d5bq3HCr"
      },
      "source": [
        "#@title Data loading\n",
        "import numpy as np\n",
        "\n",
        "alldat = np.array([])\n",
        "for j in range(len(fname)):\n",
        "  alldat = np.hstack((alldat, np.load('steinmetz_part%d.npz'%j, allow_pickle=True)['dat']))"
      ],
      "execution_count": 4,
      "outputs": []
    },
    {
      "cell_type": "code",
      "metadata": {
        "colab": {
          "base_uri": "https://localhost:8080/"
        },
        "id": "8IrUX7Eu2udl",
        "outputId": "04931cee-49e8-46a8-beb2-c306b6be5b15"
      },
      "source": [
        "#title Retreive relevant data\n",
        "\n",
        "vis_ses=[]\n",
        "\n",
        "for s in range(len(alldat)):\n",
        "  dat=alldat[s]\n",
        "  if 'VISp' in dat['brain_area']:\n",
        "    vis_ses.append(s)\n",
        "\n",
        "alldat = alldat[vis_ses]\n",
        "\n",
        "variables = [['spks'],['brain_area'],['reaction_time'],['response_time'], \n",
        "             ['response'],['contrast_left'],['contrast_right'],['feedback_type'],['bin_size']]\n",
        "dd = np.array([])\n",
        "\n",
        "for s in range(alldat.shape[0]):\n",
        "\n",
        "  newdat = dict()\n",
        "  dat = alldat[s]\n",
        "\n",
        "  for key in dat:\n",
        "    if  np.isin(key,variables):\n",
        "      newdat[key] = dat[key]\n",
        "  dd = np.hstack((dd,newdat))\n",
        "\n",
        "dd.shape"
      ],
      "execution_count": 6,
      "outputs": [
        {
          "output_type": "execute_result",
          "data": {
            "text/plain": [
              "(12,)"
            ]
          },
          "metadata": {
            "tags": []
          },
          "execution_count": 6
        }
      ]
    },
    {
      "cell_type": "code",
      "metadata": {
        "id": "uYGSRCs23CpP"
      },
      "source": [
        ""
      ],
      "execution_count": null,
      "outputs": []
    }
  ]
}